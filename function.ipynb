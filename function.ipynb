{
 "cells": [
  {
   "cell_type": "code",
   "execution_count": 1,
   "id": "e06fbb04",
   "metadata": {},
   "outputs": [
    {
     "name": "stdout",
     "output_type": "stream",
     "text": [
      "hello world\n"
     ]
    }
   ],
   "source": [
    "print(\"hello world\")"
   ]
  },
  {
   "cell_type": "code",
   "execution_count": 2,
   "id": "ebd95a72",
   "metadata": {},
   "outputs": [
    {
     "name": "stdout",
     "output_type": "stream",
     "text": [
      "[(10, 'mohan'), (11, 'rohan'), (12, 'ram')]\n"
     ]
    }
   ],
   "source": [
    "lst = ['mohan','rohan','ram']\n",
    "result = enumerate(lst,start=10)\n",
    "print(list(result))"
   ]
  },
  {
   "cell_type": "code",
   "execution_count": 3,
   "id": "8ffb7122",
   "metadata": {},
   "outputs": [
    {
     "name": "stdout",
     "output_type": "stream",
     "text": [
      "['mohan', 'rohan', 'ram']\n",
      "[1, 2, 3]\n"
     ]
    }
   ],
   "source": [
    "zipped  = [('mohan',1),('rohan',2),('ram',3)]\n",
    "result,number = zip(*zipped)\n",
    "print(list(result))\n",
    "print(list(number))"
   ]
  },
  {
   "cell_type": "code",
   "execution_count": 4,
   "id": "2ea441f1",
   "metadata": {},
   "outputs": [
    {
     "name": "stdout",
     "output_type": "stream",
     "text": [
      "dict_items([('a', 1), ('b', 2), ('c', 3)])\n"
     ]
    }
   ],
   "source": [
    "d={'a':1,'b':2,'c':3}\n",
    "items = d.items()\n",
    "print(items)\n"
   ]
  },
  {
   "cell_type": "code",
   "execution_count": 3,
   "id": "017c33e8",
   "metadata": {},
   "outputs": [
    {
     "name": "stdout",
     "output_type": "stream",
     "text": [
      "hello world\n",
      "None\n"
     ]
    }
   ],
   "source": [
    "x = print(\"hello world\")\n",
    "print(x)"
   ]
  },
  {
   "cell_type": "code",
   "execution_count": 1,
   "id": "fa9d1b3c",
   "metadata": {},
   "outputs": [],
   "source": [
    "class car:\n",
    "    def display(self):\n",
    "        return \"car\"\n",
    "class bike:\n",
    "    def show(self):\n",
    "        return \"bike\"\n"
   ]
  },
  {
   "cell_type": "code",
   "execution_count": null,
   "id": "6dd34a69",
   "metadata": {},
   "outputs": [],
   "source": [
    "class employee(person):\n",
    "    def __init__(self,name,salary):\n",
    "        super().__init__(name)\n",
    "        self.salary = salary\n",
    "\n",
    "class job:\n",
    "    def __init__(self,salary):\n",
    "        self.salary=salary\n",
    "\n",
    "class Employeepersonjob(employee,Job):\n",
    "    def __init__(self,name,salary):\n",
    "        employee.__init(self,name,salary)\n",
    "        Job.__init__(self,salary)\n"
   ]
  }
 ],
 "metadata": {
  "kernelspec": {
   "display_name": "Python 3",
   "language": "python",
   "name": "python3"
  },
  "language_info": {
   "codemirror_mode": {
    "name": "ipython",
    "version": 3
   },
   "file_extension": ".py",
   "mimetype": "text/x-python",
   "name": "python",
   "nbconvert_exporter": "python",
   "pygments_lexer": "ipython3",
   "version": "3.12.5"
  }
 },
 "nbformat": 4,
 "nbformat_minor": 5
}
