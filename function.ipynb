{
 "cells": [
  {
   "cell_type": "code",
   "execution_count": 1,
   "id": "e06fbb04",
   "metadata": {},
   "outputs": [
    {
     "name": "stdout",
     "output_type": "stream",
     "text": [
      "hello world\n"
     ]
    }
   ],
   "source": [
    "print(\"hello world\")"
   ]
  },
  {
   "cell_type": "code",
   "execution_count": 2,
   "id": "ebd95a72",
   "metadata": {},
   "outputs": [
    {
     "name": "stdout",
     "output_type": "stream",
     "text": [
      "[(10, 'mohan'), (11, 'rohan'), (12, 'ram')]\n"
     ]
    }
   ],
   "source": [
    "lst = ['mohan','rohan','ram']\n",
    "result = enumerate(lst,start=10)\n",
    "print(list(result))"
   ]
  },
  {
   "cell_type": "code",
   "execution_count": 3,
   "id": "8ffb7122",
   "metadata": {},
   "outputs": [
    {
     "name": "stdout",
     "output_type": "stream",
     "text": [
      "['mohan', 'rohan', 'ram']\n",
      "[1, 2, 3]\n"
     ]
    }
   ],
   "source": [
    "zipped  = [('mohan',1),('rohan',2),('ram',3)]\n",
    "result,number = zip(*zipped)\n",
    "print(list(result))\n",
    "print(list(number))"
   ]
  },
  {
   "cell_type": "code",
   "execution_count": 4,
   "id": "2ea441f1",
   "metadata": {},
   "outputs": [
    {
     "name": "stdout",
     "output_type": "stream",
     "text": [
      "dict_items([('a', 1), ('b', 2), ('c', 3)])\n"
     ]
    }
   ],
   "source": [
    "d={'a':1,'b':2,'c':3}\n",
    "items = d.items()\n",
    "print(items)\n"
   ]
  },
  {
   "cell_type": "code",
   "execution_count": 3,
   "id": "017c33e8",
   "metadata": {},
   "outputs": [
    {
     "name": "stdout",
     "output_type": "stream",
     "text": [
      "hello world\n",
      "None\n"
     ]
    }
   ],
   "source": [
    "x = print(\"hello world\")\n",
    "print(x)"
   ]
  },
  {
   "cell_type": "code",
   "execution_count": 1,
   "id": "fa9d1b3c",
   "metadata": {},
   "outputs": [],
   "source": [
    "class car:\n",
    "    def display(self):\n",
    "        return \"car\"\n",
    "class bike:\n",
    "    def show(self):\n",
    "        return \"bike\"\n"
   ]
  },
  {
   "cell_type": "code",
   "execution_count": 2,
   "id": "6dd34a69",
   "metadata": {},
   "outputs": [
    {
     "ename": "NameError",
     "evalue": "name 'person' is not defined",
     "output_type": "error",
     "traceback": [
      "\u001b[31m---------------------------------------------------------------------------\u001b[39m",
      "\u001b[31mNameError\u001b[39m                                 Traceback (most recent call last)",
      "\u001b[36mCell\u001b[39m\u001b[36m \u001b[39m\u001b[32mIn[2]\u001b[39m\u001b[32m, line 1\u001b[39m\n\u001b[32m----> \u001b[39m\u001b[32m1\u001b[39m \u001b[38;5;28;01mclass\u001b[39;00m\u001b[38;5;250m \u001b[39m\u001b[34;01memployee\u001b[39;00m(\u001b[43mperson\u001b[49m):\n\u001b[32m      2\u001b[39m     \u001b[38;5;28;01mdef\u001b[39;00m\u001b[38;5;250m \u001b[39m\u001b[34m__init__\u001b[39m(\u001b[38;5;28mself\u001b[39m,name,salary):\n\u001b[32m      3\u001b[39m         \u001b[38;5;28msuper\u001b[39m().\u001b[34m__init__\u001b[39m(name)\n",
      "\u001b[31mNameError\u001b[39m: name 'person' is not defined"
     ]
    }
   ],
   "source": [
    "class employee(person):\n",
    "    def __init__(self,name,salary):\n",
    "        super().__init__(name)\n",
    "        self.salary = salary\n",
    "\n",
    "class job:\n",
    "    def __init__(self,salary):\n",
    "        self.salary=salary\n",
    "\n",
    "class Employeepersonjob(employee,job):\n",
    "    def __init__(self,name,salary):\n",
    "        employee.__init(self,name,salary)\n",
    "        job.__init__(self,salary)\n"
   ]
  },
  {
   "cell_type": "code",
   "execution_count": 4,
   "id": "a56fc193",
   "metadata": {},
   "outputs": [
    {
     "name": "stdout",
     "output_type": "stream",
     "text": [
      "area of triangle is : 13.0\n",
      "area of ractangle is : 29.160000000000004\n"
     ]
    }
   ],
   "source": [
    "class triangle():\n",
    "    def area(self):\n",
    "        self.l=float(input(\"enter the length of triangle : \"))\n",
    "        self.h=float(input(\"enter the height of triangle : \"))\n",
    "        return 1/2*self.l*self.h\n",
    "class ractangle():\n",
    "    def area(self):\n",
    "        self.l = float(input(\"enter the length of ractangle : \"))\n",
    "        self.b = float(input(\"enter the bredth of ractangle : \"))\n",
    "        return self.l*self.b\n",
    "def cal_area(shape):\n",
    "    return shape.area()\n",
    "\n",
    "tr = triangle()\n",
    "rc = ractangle()\n",
    "\n",
    "print(f\"area of triangle is : {cal_area(tr)}\")\n",
    "print(f\"area of ractangle is : {cal_area(rc)}\")"
   ]
  },
  {
   "cell_type": "code",
   "execution_count": null,
   "id": "e8dad431",
   "metadata": {},
   "outputs": [],
   "source": []
  }
 ],
 "metadata": {
  "kernelspec": {
   "display_name": "Python 3",
   "language": "python",
   "name": "python3"
  },
  "language_info": {
   "codemirror_mode": {
    "name": "ipython",
    "version": 3
   },
   "file_extension": ".py",
   "mimetype": "text/x-python",
   "name": "python",
   "nbconvert_exporter": "python",
   "pygments_lexer": "ipython3",
   "version": "3.12.5"
  }
 },
 "nbformat": 4,
 "nbformat_minor": 5
}
